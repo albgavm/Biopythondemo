{
 "nbformat": 4,
 "nbformat_minor": 0,
 "metadata": {
  "colab": {
   "name": "1- Demo - Simple Linear Regression 20-80 Split.ipynb",
   "provenance": [
    {
     "file_id": "1j4RX4SVeWRQvzuKIv-iFwJZaPx0d3V62",
     "timestamp": 1546793183248
    }
   ],
   "collapsed_sections": []
  },
  "kernelspec": {
   "name": "python3",
   "display_name": "Python 3"
  }
 },
 "cells": [
  {
   "cell_type": "markdown",
   "metadata": {
    "id": "xiSXeY3PBJKP"
   },
   "source": [
    "# Lets Perform a Simple Linear Regression (Using One Feature)"
   ]
  },
  {
   "cell_type": "markdown",
   "metadata": {
    "id": "ePWYCYc1SIrt"
   },
   "source": [
    "# Diabetes dataset\n",
    "**Ten** baseline variables, age, sex, body mass index, average blood pressure, and six blood serum measurements were obtained for each of n = 442 diabetes patients, as well as the response of interest, a quantitative measure of disease progression one year after baseline.\n",
    "\n",
    "**Data Set Characteristics:**\n",
    "Number of Instances: 442\n",
    "Number of Attributes: First 10 columns are numeric predictive values\n",
    "Target: Column 11 is a quantitative measure of disease progression one year after baseline\n",
    "\n",
    "## Attribute Information:  \n",
    "- Age\n",
    "- Sex\n",
    "- Body mass index\n",
    "- Average blood pressure      \n",
    "- S1: blood serum measurement 1\n",
    "- S2: blood serum measurement 2\n",
    "- S3: blood serum measurement 3\n",
    "- S4: blood serum measurement 4\n",
    "- S5: blood serum measurement 5\n",
    "- S6: blood serum measurement 6\n",
    "- target: a quantitative measure of disease progression one year after baseline\n",
    "\n",
    "## Note: \n",
    "Each of these 10 feature variables have been mean centered and scaled by the standard deviation times `n_samples` (i.e. the sum of squares of each column totals 1).\n",
    "\n",
    "Source URL:http://www4.stat.ncsu.edu/~boos/var.select/diabetes.html\n",
    "\n",
    "For more information see:\n",
    "\n",
    "Bradley Efron, Trevor Hastie, Iain Johnstone and Robert Tibshirani (2004) \"Least Angle Regression,\" Annals of Statistics (with discussion), 407-499.(http://web.stanford.edu/~hastie/Papers/LARS/LeastAngle_2002.pdf)'"
   ]
  },
  {
   "cell_type": "markdown",
   "metadata": {
    "id": "3xmKBtC0DMNC"
   },
   "source": [
    "#Import Dataset"
   ]
  },
  {
   "cell_type": "code",
   "metadata": {
    "id": "FTIyIl9EARya",
    "colab": {
     "base_uri": "https://localhost:8080/"
    },
    "executionInfo": {
     "status": "ok",
     "timestamp": 1611798830407,
     "user_tz": 300,
     "elapsed": 313,
     "user": {
      "displayName": "Saeid Abolfazli",
      "photoUrl": "",
      "userId": "03288941312928329554"
     }
    },
    "outputId": "6cccb36d-9c29-4615-8d47-c7b7eb1d82fe",
    "pycharm": {
     "is_executing": false
    }
   },
   "source": [
    "print(__doc__)\n",
    "\n",
    "\n",
    "# Code source: Jaques Grobler\n",
    "# License: BSD 3 clause\n",
    "\n",
    "import matplotlib.pyplot as plt\n",
    "import numpy as np\n",
    "from sklearn import datasets, linear_model\n",
    "from sklearn.metrics import mean_squared_error, r2_score\n",
    "\n",
    "# Load the diabetes dataset. This is Scikit-Learn dataset format.\n",
    "diabetes = datasets.load_diabetes()\n",
    "\n"
   ],
   "execution_count": 1,
   "outputs": [
    {
     "name": "stdout",
     "text": [
      "Automatically created module for IPython interactive environment\n"
     ],
     "output_type": "stream"
    }
   ]
  },
  {
   "cell_type": "markdown",
   "metadata": {
    "id": "NnDFxtD8UNOA"
   },
   "source": [
    "# Lets create a quick and dirty modeling "
   ]
  },
  {
   "cell_type": "markdown",
   "metadata": {
    "id": "NhMDkG5hDY_u"
   },
   "source": [
    "# Check Dataset Type"
   ]
  },
  {
   "cell_type": "code",
   "metadata": {
    "id": "yEtnKS_wBFIh",
    "colab": {
     "base_uri": "https://localhost:8080/"
    },
    "executionInfo": {
     "status": "ok",
     "timestamp": 1611798830540,
     "user_tz": 300,
     "elapsed": 436,
     "user": {
      "displayName": "Saeid Abolfazli",
      "photoUrl": "",
      "userId": "03288941312928329554"
     }
    },
    "outputId": "cac76618-73cf-4e2f-8c12-0e7286e741ca",
    "pycharm": {
     "is_executing": false
    }
   },
   "source": [
    "type(diabetes)"
   ],
   "execution_count": 2,
   "outputs": [
    {
     "data": {
      "text/plain": "sklearn.utils.Bunch"
     },
     "metadata": {},
     "output_type": "execute_result",
     "execution_count": 2
    }
   ]
  },
  {
   "cell_type": "markdown",
   "metadata": {
    "id": "wVmHyUY0Dat-"
   },
   "source": [
    "# Convert Dataset to Panda DF"
   ]
  },
  {
   "cell_type": "code",
   "metadata": {
    "id": "KDjH15rUBv0W",
    "executionInfo": {
     "status": "ok",
     "timestamp": 1611798830541,
     "user_tz": 300,
     "elapsed": 428,
     "user": {
      "displayName": "Saeid Abolfazli",
      "photoUrl": "",
      "userId": "03288941312928329554"
     }
    },
    "pycharm": {
     "is_executing": false
    }
   },
   "source": [
    "import numpy as np\n",
    "import pandas as pd\n",
    "diabetes_df = pd.DataFrame(data= np.c_[diabetes['data'], diabetes['target']],\n",
    "                     columns= diabetes['feature_names'] + ['target'])\n"
   ],
   "execution_count": 3,
   "outputs": []
  },
  {
   "cell_type": "markdown",
   "metadata": {
    "id": "zLEhjx9kDudq"
   },
   "source": [
    "# Look at Data"
   ]
  },
  {
   "cell_type": "code",
   "metadata": {
    "id": "f_qfpqPPAWK-",
    "colab": {
     "base_uri": "https://localhost:8080/",
     "height": 343
    },
    "executionInfo": {
     "status": "ok",
     "timestamp": 1611798830644,
     "user_tz": 300,
     "elapsed": 522,
     "user": {
      "displayName": "Saeid Abolfazli",
      "photoUrl": "",
      "userId": "03288941312928329554"
     }
    },
    "outputId": "578c7685-33c8-4a94-ad8f-1e2fe5da688e",
    "pycharm": {
     "is_executing": false
    }
   },
   "source": [
    "display(diabetes_df[:10])"
   ],
   "execution_count": 4,
   "outputs": [
    {
     "data": {
      "text/plain": "        age       sex       bmi        bp        s1        s2        s3  \\\n0  0.038076  0.050680  0.061696  0.021872 -0.044223 -0.034821 -0.043401   \n1 -0.001882 -0.044642 -0.051474 -0.026328 -0.008449 -0.019163  0.074412   \n2  0.085299  0.050680  0.044451 -0.005671 -0.045599 -0.034194 -0.032356   \n3 -0.089063 -0.044642 -0.011595 -0.036656  0.012191  0.024991 -0.036038   \n4  0.005383 -0.044642 -0.036385  0.021872  0.003935  0.015596  0.008142   \n5 -0.092695 -0.044642 -0.040696 -0.019442 -0.068991 -0.079288  0.041277   \n6 -0.045472  0.050680 -0.047163 -0.015999 -0.040096 -0.024800  0.000779   \n7  0.063504  0.050680 -0.001895  0.066630  0.090620  0.108914  0.022869   \n8  0.041708  0.050680  0.061696 -0.040099 -0.013953  0.006202 -0.028674   \n9 -0.070900 -0.044642  0.039062 -0.033214 -0.012577 -0.034508 -0.024993   \n\n         s4        s5        s6  target  \n0 -0.002592  0.019908 -0.017646   151.0  \n1 -0.039493 -0.068330 -0.092204    75.0  \n2 -0.002592  0.002864 -0.025930   141.0  \n3  0.034309  0.022692 -0.009362   206.0  \n4 -0.002592 -0.031991 -0.046641   135.0  \n5 -0.076395 -0.041180 -0.096346    97.0  \n6 -0.039493 -0.062913 -0.038357   138.0  \n7  0.017703 -0.035817  0.003064    63.0  \n8 -0.002592 -0.014956  0.011349   110.0  \n9 -0.002592  0.067736 -0.013504   310.0  ",
      "text/html": "<div>\n<style scoped>\n    .dataframe tbody tr th:only-of-type {\n        vertical-align: middle;\n    }\n\n    .dataframe tbody tr th {\n        vertical-align: top;\n    }\n\n    .dataframe thead th {\n        text-align: right;\n    }\n</style>\n<table border=\"1\" class=\"dataframe\">\n  <thead>\n    <tr style=\"text-align: right;\">\n      <th></th>\n      <th>age</th>\n      <th>sex</th>\n      <th>bmi</th>\n      <th>bp</th>\n      <th>s1</th>\n      <th>s2</th>\n      <th>s3</th>\n      <th>s4</th>\n      <th>s5</th>\n      <th>s6</th>\n      <th>target</th>\n    </tr>\n  </thead>\n  <tbody>\n    <tr>\n      <th>0</th>\n      <td>0.038076</td>\n      <td>0.050680</td>\n      <td>0.061696</td>\n      <td>0.021872</td>\n      <td>-0.044223</td>\n      <td>-0.034821</td>\n      <td>-0.043401</td>\n      <td>-0.002592</td>\n      <td>0.019908</td>\n      <td>-0.017646</td>\n      <td>151.0</td>\n    </tr>\n    <tr>\n      <th>1</th>\n      <td>-0.001882</td>\n      <td>-0.044642</td>\n      <td>-0.051474</td>\n      <td>-0.026328</td>\n      <td>-0.008449</td>\n      <td>-0.019163</td>\n      <td>0.074412</td>\n      <td>-0.039493</td>\n      <td>-0.068330</td>\n      <td>-0.092204</td>\n      <td>75.0</td>\n    </tr>\n    <tr>\n      <th>2</th>\n      <td>0.085299</td>\n      <td>0.050680</td>\n      <td>0.044451</td>\n      <td>-0.005671</td>\n      <td>-0.045599</td>\n      <td>-0.034194</td>\n      <td>-0.032356</td>\n      <td>-0.002592</td>\n      <td>0.002864</td>\n      <td>-0.025930</td>\n      <td>141.0</td>\n    </tr>\n    <tr>\n      <th>3</th>\n      <td>-0.089063</td>\n      <td>-0.044642</td>\n      <td>-0.011595</td>\n      <td>-0.036656</td>\n      <td>0.012191</td>\n      <td>0.024991</td>\n      <td>-0.036038</td>\n      <td>0.034309</td>\n      <td>0.022692</td>\n      <td>-0.009362</td>\n      <td>206.0</td>\n    </tr>\n    <tr>\n      <th>4</th>\n      <td>0.005383</td>\n      <td>-0.044642</td>\n      <td>-0.036385</td>\n      <td>0.021872</td>\n      <td>0.003935</td>\n      <td>0.015596</td>\n      <td>0.008142</td>\n      <td>-0.002592</td>\n      <td>-0.031991</td>\n      <td>-0.046641</td>\n      <td>135.0</td>\n    </tr>\n    <tr>\n      <th>5</th>\n      <td>-0.092695</td>\n      <td>-0.044642</td>\n      <td>-0.040696</td>\n      <td>-0.019442</td>\n      <td>-0.068991</td>\n      <td>-0.079288</td>\n      <td>0.041277</td>\n      <td>-0.076395</td>\n      <td>-0.041180</td>\n      <td>-0.096346</td>\n      <td>97.0</td>\n    </tr>\n    <tr>\n      <th>6</th>\n      <td>-0.045472</td>\n      <td>0.050680</td>\n      <td>-0.047163</td>\n      <td>-0.015999</td>\n      <td>-0.040096</td>\n      <td>-0.024800</td>\n      <td>0.000779</td>\n      <td>-0.039493</td>\n      <td>-0.062913</td>\n      <td>-0.038357</td>\n      <td>138.0</td>\n    </tr>\n    <tr>\n      <th>7</th>\n      <td>0.063504</td>\n      <td>0.050680</td>\n      <td>-0.001895</td>\n      <td>0.066630</td>\n      <td>0.090620</td>\n      <td>0.108914</td>\n      <td>0.022869</td>\n      <td>0.017703</td>\n      <td>-0.035817</td>\n      <td>0.003064</td>\n      <td>63.0</td>\n    </tr>\n    <tr>\n      <th>8</th>\n      <td>0.041708</td>\n      <td>0.050680</td>\n      <td>0.061696</td>\n      <td>-0.040099</td>\n      <td>-0.013953</td>\n      <td>0.006202</td>\n      <td>-0.028674</td>\n      <td>-0.002592</td>\n      <td>-0.014956</td>\n      <td>0.011349</td>\n      <td>110.0</td>\n    </tr>\n    <tr>\n      <th>9</th>\n      <td>-0.070900</td>\n      <td>-0.044642</td>\n      <td>0.039062</td>\n      <td>-0.033214</td>\n      <td>-0.012577</td>\n      <td>-0.034508</td>\n      <td>-0.024993</td>\n      <td>-0.002592</td>\n      <td>0.067736</td>\n      <td>-0.013504</td>\n      <td>310.0</td>\n    </tr>\n  </tbody>\n</table>\n</div>"
     },
     "metadata": {},
     "output_type": "display_data"
    }
   ]
  },
  {
   "cell_type": "code",
   "metadata": {
    "id": "LqcJtPtcAVZo",
    "executionInfo": {
     "status": "ok",
     "timestamp": 1611798830644,
     "user_tz": 300,
     "elapsed": 511,
     "user": {
      "displayName": "Saeid Abolfazli",
      "photoUrl": "",
      "userId": "03288941312928329554"
     }
    },
    "pycharm": {
     "is_executing": false
    }
   },
   "source": [
    "\n",
    "# For simplicity, lets select only one feature\n",
    "diabetes_X = diabetes.data[:, np.newaxis, 2]\n",
    "\n",
    "# Split the data into training/testing sets (422 record for training and 20 for test)\n",
    "diabetes_X_train = diabetes_X[:-20]\n",
    "diabetes_X_test = diabetes_X[-20:]\n",
    "\n",
    "# Split the targets into training/testing sets (422 record for training and 20 for test)\n",
    "diabetes_y_train = diabetes.target[:-20]\n",
    "diabetes_y_test = diabetes.target[-20:]\n"
   ],
   "execution_count": 5,
   "outputs": []
  },
  {
   "cell_type": "markdown",
   "metadata": {
    "id": "jDpf3Yo6TIV5"
   },
   "source": [
    "# Modeling"
   ]
  },
  {
   "cell_type": "code",
   "metadata": {
    "colab": {
     "base_uri": "https://localhost:8080/"
    },
    "id": "16h4fYjjTK4b",
    "executionInfo": {
     "status": "ok",
     "timestamp": 1611798830645,
     "user_tz": 300,
     "elapsed": 504,
     "user": {
      "displayName": "Saeid Abolfazli",
      "photoUrl": "",
      "userId": "03288941312928329554"
     }
    },
    "outputId": "aa2ac243-1eba-49ff-a4b9-207b19db8371",
    "pycharm": {
     "is_executing": false
    }
   },
   "source": [
    "\n",
    "# Create linear regression object\n",
    "regr = linear_model.LinearRegression()\n",
    "\n",
    "# Train the model using the training sets\n",
    "regr.fit(diabetes_X_train, diabetes_y_train)\n"
   ],
   "execution_count": 6,
   "outputs": [
    {
     "data": {
      "text/plain": "LinearRegression()"
     },
     "metadata": {},
     "output_type": "execute_result",
     "execution_count": 6
    }
   ]
  },
  {
   "cell_type": "markdown",
   "metadata": {
    "id": "vK006eDnTM5n"
   },
   "source": [
    "# Predicting"
   ]
  },
  {
   "cell_type": "code",
   "metadata": {
    "id": "kj4HzlIuTO0P",
    "executionInfo": {
     "status": "ok",
     "timestamp": 1611798830645,
     "user_tz": 300,
     "elapsed": 496,
     "user": {
      "displayName": "Saeid Abolfazli",
      "photoUrl": "",
      "userId": "03288941312928329554"
     }
    },
    "pycharm": {
     "is_executing": false
    }
   },
   "source": [
    "# Make predictions using the testing set\n",
    "diabetes_y_pred = regr.predict(diabetes_X_test)\n",
    "\n"
   ],
   "execution_count": 7,
   "outputs": []
  },
  {
   "cell_type": "markdown",
   "metadata": {
    "id": "tcXRaYptTR_3"
   },
   "source": [
    "# Lets look at under the hood"
   ]
  },
  {
   "cell_type": "code",
   "metadata": {
    "colab": {
     "base_uri": "https://localhost:8080/"
    },
    "id": "mdHNaxurTUWo",
    "executionInfo": {
     "status": "ok",
     "timestamp": 1611798830646,
     "user_tz": 300,
     "elapsed": 489,
     "user": {
      "displayName": "Saeid Abolfazli",
      "photoUrl": "",
      "userId": "03288941312928329554"
     }
    },
    "outputId": "c87d1e15-c25f-4515-b67e-e664a01319c8",
    "pycharm": {
     "is_executing": false
    }
   },
   "source": [
    "# The coefficients\n",
    "print('Coefficients: \\n', regr.coef_)\n",
    "# The mean squared error\n",
    "print(\"Mean squared error: %.2f\"\n",
    "      % mean_squared_error(diabetes_y_test, diabetes_y_pred))\n",
    "# Explained variance score: 1 is perfect prediction\n",
    "print('R^2 Variance score: %.2f' % r2_score(diabetes_y_test, diabetes_y_pred))\n"
   ],
   "execution_count": 8,
   "outputs": [
    {
     "name": "stdout",
     "text": [
      "Coefficients: \n",
      " [938.23786125]\n",
      "Mean squared error: 2548.07\n",
      "R^2 Variance score: 0.47\n"
     ],
     "output_type": "stream"
    }
   ]
  },
  {
   "cell_type": "markdown",
   "metadata": {
    "id": "epO9teEqTW3D"
   },
   "source": [
    "# Plot"
   ]
  },
  {
   "cell_type": "code",
   "metadata": {
    "colab": {
     "base_uri": "https://localhost:8080/",
     "height": 252
    },
    "id": "p5_FRgL_TYc5",
    "executionInfo": {
     "status": "ok",
     "timestamp": 1611798830768,
     "user_tz": 300,
     "elapsed": 601,
     "user": {
      "displayName": "Saeid Abolfazli",
      "photoUrl": "",
      "userId": "03288941312928329554"
     }
    },
    "outputId": "686dee54-e34c-429c-c197-16a069e66b6e",
    "pycharm": {
     "is_executing": false
    }
   },
   "source": [
    "# Plot outputs\n",
    "plt.scatter(diabetes_X_test, diabetes_y_test,  color='black')\n",
    "plt.plot(diabetes_X_test, diabetes_y_pred, color='blue', linewidth=3)\n",
    "\n",
    "plt.xticks(())\n",
    "plt.yticks(())\n",
    "\n",
    "plt.show()"
   ],
   "execution_count": 9,
   "outputs": [
    {
     "data": {
      "text/plain": "<Figure size 432x288 with 1 Axes>",
      "image/png": "[encoded data removed]"
     },
     "metadata": {},
     "output_type": "display_data"
    }
   ]
  },
  {
   "cell_type": "markdown",
   "metadata": {
    "id": "j6SBJbYuD1nE"
   },
   "source": [
    "# Above way was very inefficient. Lets follow best practice and do proper ML\n",
    "\n",
    "## Step 1: Select Exploratory Features"
   ]
  },
  {
   "cell_type": "code",
   "metadata": {
    "id": "yKVH85YHD_Ae",
    "colab": {
     "base_uri": "https://localhost:8080/"
    },
    "executionInfo": {
     "status": "ok",
     "timestamp": 1611798830769,
     "user_tz": 300,
     "elapsed": 593,
     "user": {
      "displayName": "Saeid Abolfazli",
      "photoUrl": "",
      "userId": "03288941312928329554"
     }
    },
    "outputId": "ba793ec3-1115-4ee5-9eec-19ae958d60ce",
    "pycharm": {
     "is_executing": false
    }
   },
   "source": [
    "# Use only one feature\n",
    "diabetes_X = diabetes_df['age']\n",
    "diabetes_X = np.array(diabetes_X.values).reshape(-1,1)\n",
    "\n",
    "diabetes_y = diabetes_df['target']\n",
    "diabetes_y = np.array(diabetes_y.values).reshape(-1,1)\n",
    "\n",
    "#View it\n",
    "print(type(diabetes_X))\n",
    "print(diabetes_X.shape)\n",
    "\n",
    "\n",
    "print(type(diabetes_y))\n",
    "print(diabetes_y.shape)"
   ],
   "execution_count": 10,
   "outputs": [
    {
     "name": "stdout",
     "text": [
      "<class 'numpy.ndarray'>\n",
      "(442, 1)\n",
      "<class 'numpy.ndarray'>\n",
      "(442, 1)\n"
     ],
     "output_type": "stream"
    }
   ]
  },
  {
   "cell_type": "markdown",
   "metadata": {
    "id": "s8xBlpZLEUDr"
   },
   "source": [
    "## Step 2 Split data into Train/Test"
   ]
  },
  {
   "cell_type": "code",
   "metadata": {
    "id": "MjzSm7AkEWpN",
    "colab": {
     "base_uri": "https://localhost:8080/"
    },
    "executionInfo": {
     "status": "ok",
     "timestamp": 1611798830769,
     "user_tz": 300,
     "elapsed": 583,
     "user": {
      "displayName": "Saeid Abolfazli",
      "photoUrl": "",
      "userId": "03288941312928329554"
     }
    },
    "outputId": "fcfa8703-27d6-410e-eaba-1f9ebd73adc3",
    "pycharm": {
     "is_executing": false
    }
   },
   "source": [
    "# Split the data into training/testing sets\n",
    "from sklearn.model_selection import train_test_split\n",
    "\n",
    "# Create the train and test data\n",
    "diabetes_X_train, diabetes_X_test, diabetes_y_train, diabetes_y_test = train_test_split(diabetes_X, diabetes_y, test_size=0.2)\n",
    "\n",
    "\n",
    "print(diabetes_X_train[:5])\n",
    "print(diabetes_X_test[:5])\n",
    "print(diabetes_y_train[:5])\n",
    "print(diabetes_y_test[:5])\n",
    "\n"
   ],
   "execution_count": 11,
   "outputs": [
    {
     "name": "stdout",
     "text": [
      "[[ 0.02354575]\n",
      " [-0.00551455]\n",
      " [ 0.00175052]\n",
      " [-0.00188202]\n",
      " [-0.06726771]]\n",
      "[[0.02354575]\n",
      " [0.02354575]\n",
      " [0.04897352]\n",
      " [0.02354575]\n",
      " [0.03807591]]\n",
      "[[ 55.]\n",
      " [109.]\n",
      " [ 65.]\n",
      " [ 48.]\n",
      " [ 86.]]\n",
      "[[219.]\n",
      " [146.]\n",
      " [281.]\n",
      " [288.]\n",
      " [ 81.]]\n"
     ],
     "output_type": "stream"
    }
   ]
  },
  {
   "cell_type": "code",
   "metadata": {
    "id": "gqqo97pVPjIP",
    "colab": {
     "base_uri": "https://localhost:8080/"
    },
    "executionInfo": {
     "status": "ok",
     "timestamp": 1611798830770,
     "user_tz": 300,
     "elapsed": 575,
     "user": {
      "displayName": "Saeid Abolfazli",
      "photoUrl": "",
      "userId": "03288941312928329554"
     }
    },
    "outputId": "2c5f8b7f-5f1f-425f-97f3-dfb2e483e56e",
    "pycharm": {
     "is_executing": false
    }
   },
   "source": [
    "# Did we do proper split\n",
    "print(\"Train dataset size\")\n",
    "print(diabetes_X_train.shape)\n",
    "print(diabetes_y_train.shape)\n",
    "\n",
    "print(\"Test dataset size\")\n",
    "print(diabetes_X_test.shape)\n",
    "print(diabetes_y_test.shape)"
   ],
   "execution_count": 12,
   "outputs": [
    {
     "name": "stdout",
     "text": [
      "Train dataset size\n",
      "(353, 1)\n",
      "(353, 1)\n",
      "Test dataset size\n",
      "(89, 1)\n",
      "(89, 1)\n"
     ],
     "output_type": "stream"
    }
   ]
  },
  {
   "cell_type": "markdown",
   "metadata": {
    "id": "VLXGLddlFBhn"
   },
   "source": [
    "# Create Linear Regression Model"
   ]
  },
  {
   "cell_type": "code",
   "metadata": {
    "id": "h9HhPCqCEzwb",
    "colab": {
     "base_uri": "https://localhost:8080/"
    },
    "executionInfo": {
     "status": "ok",
     "timestamp": 1611798830770,
     "user_tz": 300,
     "elapsed": 565,
     "user": {
      "displayName": "Saeid Abolfazli",
      "photoUrl": "",
      "userId": "03288941312928329554"
     }
    },
    "outputId": "838bd8d2-7e5b-4135-c5ed-ae52ddcad82e",
    "pycharm": {
     "is_executing": false
    }
   },
   "source": [
    "# Create linear regression object\n",
    "regr = linear_model.LinearRegression()\n",
    "regr"
   ],
   "execution_count": 13,
   "outputs": [
    {
     "data": {
      "text/plain": "LinearRegression()"
     },
     "metadata": {},
     "output_type": "execute_result",
     "execution_count": 13
    }
   ]
  },
  {
   "cell_type": "markdown",
   "metadata": {
    "id": "jBD50NueFPzP"
   },
   "source": [
    "# Train The Model"
   ]
  },
  {
   "cell_type": "markdown",
   "metadata": {
    "id": "45Kt_odFFMoW"
   },
   "source": [
    ""
   ]
  },
  {
   "cell_type": "code",
   "metadata": {
    "id": "1x_-deOhFJTh",
    "colab": {
     "base_uri": "https://localhost:8080/"
    },
    "executionInfo": {
     "status": "ok",
     "timestamp": 1611798830902,
     "user_tz": 300,
     "elapsed": 687,
     "user": {
      "displayName": "Saeid Abolfazli",
      "photoUrl": "",
      "userId": "03288941312928329554"
     }
    },
    "outputId": "accbde82-d706-43a1-f988-6eeeda056b3d",
    "pycharm": {
     "is_executing": false
    }
   },
   "source": [
    "# Train the model using the training sets\n",
    "regr.fit(diabetes_X_train, diabetes_y_train)\n"
   ],
   "execution_count": 14,
   "outputs": [
    {
     "data": {
      "text/plain": "LinearRegression()"
     },
     "metadata": {},
     "output_type": "execute_result",
     "execution_count": 14
    }
   ]
  },
  {
   "cell_type": "markdown",
   "metadata": {
    "id": "Oat-IidXQ6hs"
   },
   "source": [
    "# Look at Model Coefficient and Intercept"
   ]
  },
  {
   "cell_type": "code",
   "metadata": {
    "id": "uIfqcPJhQ-jF",
    "colab": {
     "base_uri": "https://localhost:8080/"
    },
    "executionInfo": {
     "status": "ok",
     "timestamp": 1611798830903,
     "user_tz": 300,
     "elapsed": 678,
     "user": {
      "displayName": "Saeid Abolfazli",
      "photoUrl": "",
      "userId": "03288941312928329554"
     }
    },
    "outputId": "99a615da-b243-45e7-d5b5-346e34d37d73",
    "pycharm": {
     "is_executing": false
    }
   },
   "source": [
    "print(\"coefficient is \" , regr.coef_)\n",
    "print(\"Intercept is\", regr.intercept_)\n"
   ],
   "execution_count": 15,
   "outputs": [
    {
     "name": "stdout",
     "text": [
      "coefficient is  [[287.83751056]]\n",
      "Intercept is [149.58855874]\n"
     ],
     "output_type": "stream"
    }
   ]
  },
  {
   "cell_type": "code",
   "metadata": {
    "id": "hgiy5E29PuCh",
    "colab": {
     "base_uri": "https://localhost:8080/"
    },
    "executionInfo": {
     "status": "ok",
     "timestamp": 1611798830904,
     "user_tz": 300,
     "elapsed": 670,
     "user": {
      "displayName": "Saeid Abolfazli",
      "photoUrl": "",
      "userId": "03288941312928329554"
     }
    },
    "outputId": "a43c1aa2-fe85-49fa-baef-a2300dba6265",
    "pycharm": {
     "is_executing": false
    }
   },
   "source": [
    "print(diabetes_X_test.shape)\n",
    "print(diabetes_y_test.shape)"
   ],
   "execution_count": 16,
   "outputs": [
    {
     "name": "stdout",
     "text": [
      "(89, 1)\n",
      "(89, 1)\n"
     ],
     "output_type": "stream"
    }
   ]
  },
  {
   "cell_type": "markdown",
   "metadata": {
    "id": "GJs6STWnOZEu"
   },
   "source": [
    "# Make Prediction"
   ]
  },
  {
   "cell_type": "code",
   "metadata": {
    "id": "NtNTav62Ny6U",
    "colab": {
     "base_uri": "https://localhost:8080/"
    },
    "executionInfo": {
     "status": "ok",
     "timestamp": 1611798830904,
     "user_tz": 300,
     "elapsed": 660,
     "user": {
      "displayName": "Saeid Abolfazli",
      "photoUrl": "",
      "userId": "03288941312928329554"
     }
    },
    "outputId": "4988992f-c825-4aca-e7e0-9e4fa5055252",
    "pycharm": {
     "is_executing": false
    }
   },
   "source": [
    "# Make predictions using the testing set\n",
    "diabetes_y_pred = regr.predict(diabetes_X_test)\n",
    "diabetes_y_pred[:5]"
   ],
   "execution_count": 17,
   "outputs": [
    {
     "data": {
      "text/plain": "array([[156.36590956],\n       [156.36590956],\n       [163.68497534],\n       [156.36590956],\n       [160.54823286]])"
     },
     "metadata": {},
     "output_type": "execute_result",
     "execution_count": 17
    }
   ]
  },
  {
   "cell_type": "markdown",
   "metadata": {
    "id": "dbz282OIRUcV"
   },
   "source": [
    "# Look at Error"
   ]
  },
  {
   "cell_type": "code",
   "metadata": {
    "id": "564Ez8QmE-4g",
    "colab": {
     "base_uri": "https://localhost:8080/"
    },
    "executionInfo": {
     "status": "ok",
     "timestamp": 1611798830905,
     "user_tz": 300,
     "elapsed": 652,
     "user": {
      "displayName": "Saeid Abolfazli",
      "photoUrl": "",
      "userId": "03288941312928329554"
     }
    },
    "outputId": "9330b143-22cc-40fb-9169-be5b67cd5f71",
    "pycharm": {
     "is_executing": false
    }
   },
   "source": [
    "from sklearn.metrics import mean_squared_error, r2_score\n",
    "from sklearn.metrics import mean_absolute_error\n",
    "from math import sqrt\n",
    "\n",
    "\n",
    "# The mean squared error\n",
    "print(\"Mean squared error: %.2f\"\n",
    "      % mean_squared_error(diabetes_y_test, diabetes_y_pred))\n",
    "\n",
    "print(\"Root Mean squared error: %.2f\"\n",
    "      % sqrt(mean_squared_error(diabetes_y_test, diabetes_y_pred)))\n",
    "\n",
    "print(\"Mean absolute error: %.2f\"\n",
    "      % mean_absolute_error(diabetes_y_test, diabetes_y_pred))\n",
    "\n",
    "# Explained variance score: 1 is perfect prediction\n",
    "print('R^2 Variance score: %.2f' % r2_score(diabetes_y_test, diabetes_y_pred))\n",
    "\n"
   ],
   "execution_count": 18,
   "outputs": [
    {
     "name": "stdout",
     "text": [
      "Mean squared error: 5406.62\n",
      "Root Mean squared error: 73.53\n",
      "Mean absolute error: 61.35\n",
      "R^2 Variance score: 0.02\n"
     ],
     "output_type": "stream"
    }
   ]
  },
  {
   "cell_type": "markdown",
   "metadata": {
    "id": "K-A8l6LGXdYG"
   },
   "source": [
    "# Conclusion\n",
    "\n",
    "1.   The model has fairly high error; something in the range of **5000**\n",
    "2.    The model is **almost as bad as** when we assign average of the entire target variable to all.\n",
    "\n",
    "**Can anyone says why our model is so bad?**"
   ]
  },
  {
   "cell_type": "markdown",
   "metadata": {
    "id": "GCYXydXiROFV"
   },
   "source": [
    "# Plot the Model"
   ]
  },
  {
   "cell_type": "code",
   "metadata": {
    "id": "kK1HNBGgRQKc",
    "colab": {
     "base_uri": "https://localhost:8080/",
     "height": 252
    },
    "executionInfo": {
     "status": "ok",
     "timestamp": 1611798830906,
     "user_tz": 300,
     "elapsed": 643,
     "user": {
      "displayName": "Saeid Abolfazli",
      "photoUrl": "",
      "userId": "03288941312928329554"
     }
    },
    "outputId": "534e1b0e-3b13-4e6e-97ce-8efb05bdc9b0",
    "pycharm": {
     "is_executing": false
    }
   },
   "source": [
    "# Plot outputs\n",
    "plt.scatter(diabetes_X_test, diabetes_y_test,  color='black')\n",
    "plt.plot(diabetes_X_test, diabetes_y_pred, color='blue', linewidth=3)\n",
    "\n",
    "plt.xticks(())\n",
    "plt.yticks(())\n",
    "\n",
    "plt.show()"
   ],
   "execution_count": 19,
   "outputs": [
    {
     "data": {
      "text/plain": "<Figure size 432x288 with 1 Axes>",
      "image/png": "[encoded data removed]"
     },
     "metadata": {},
     "output_type": "display_data"
    }
   ]
  },
  {
   "cell_type": "markdown",
   "metadata": {
    "id": "wzVdWvH5KdX6"
   },
   "source": [
    "# Question: Run the entire code using both simple and proper ways. Compare the results. What is happening?"
   ]
  },
  {
   "cell_type": "code",
   "metadata": {
    "colab": {
     "base_uri": "https://localhost:8080/",
     "height": 129
    },
    "id": "t20w42vAVqle",
    "executionInfo": {
     "status": "error",
     "timestamp": 1611798831019,
     "user_tz": 300,
     "elapsed": 747,
     "user": {
      "displayName": "Saeid Abolfazli",
      "photoUrl": "",
      "userId": "03288941312928329554"
     }
    },
    "outputId": "20190593-1a9e-455b-a370-4e678574d4cf",
    "pycharm": {
     "is_executing": false
    }
   },
   "source": [
    "random_state=1?"
   ],
   "execution_count": 20,
   "outputs": [
    {
     "traceback": [
      "\u001b[0;36m  File \u001b[0;32m\"<ipython-input-20-24f6d9435ed9>\"\u001b[0;36m, line \u001b[0;32m1\u001b[0m\n\u001b[0;31m    random_state=1?\u001b[0m\n\u001b[0m                  ^\u001b[0m\n\u001b[0;31mSyntaxError\u001b[0m\u001b[0;31m:\u001b[0m invalid syntax\n"
     ],
     "ename": "SyntaxError",
     "evalue": "invalid syntax (<ipython-input-20-24f6d9435ed9>, line 1)",
     "output_type": "error"
    }
   ]
  },
  {
   "cell_type": "code",
   "metadata": {
    "id": "L-FK1kAOVseg",
    "executionInfo": {
     "status": "aborted",
     "timestamp": 1611798831019,
     "user_tz": 300,
     "elapsed": 737,
     "user": {
      "displayName": "Saeid Abolfazli",
      "photoUrl": "",
      "userId": "03288941312928329554"
     }
    },
    "pycharm": {
     "is_executing": false
    }
   },
   "source": [
    ""
   ],
   "execution_count": null,
   "outputs": []
  }
 ]
}